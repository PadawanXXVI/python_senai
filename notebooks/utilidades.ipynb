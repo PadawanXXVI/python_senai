{
 "cells": [
  {
   "cell_type": "markdown",
   "id": "c76b6352-b554-4732-a765-9d08361f9015",
   "metadata": {},
   "source": [
    "# Biblioteca Pandas com Jupyter Notebooks"
   ]
  },
  {
   "cell_type": "code",
   "execution_count": 13,
   "id": "8a5e66e2-a5d5-4715-98ea-5256b0e97a7f",
   "metadata": {},
   "outputs": [
    {
     "data": {
      "text/plain": [
       "True"
      ]
     },
     "metadata": {},
     "output_type": "display_data"
    }
   ],
   "source": [
    "# ANY (Qualquer, qualquer coisa)\n",
    "\n",
    "# Recebe um objeto iterável (um lista, por exemplo) e vai retornar True se existir o elemento\n",
    "\n",
    "resposta = any([False, True, False, False, False]) # um único ou mais de um True retorna True\n",
    "display(resposta)"
   ]
  },
  {
   "cell_type": "code",
   "execution_count": 9,
   "id": "6373843a-bc9e-4a9f-935a-ae133d6d6700",
   "metadata": {},
   "outputs": [
    {
     "data": {
      "text/plain": [
       "True"
      ]
     },
     "metadata": {},
     "output_type": "display_data"
    }
   ],
   "source": [
    "nomes = ('Anderson', '', '', '', '') # um único ou mais de um item preenchido retorna True\n",
    "\n",
    "resposta = any(nomes)\n",
    "display(resposta)"
   ]
  },
  {
   "cell_type": "code",
   "execution_count": 15,
   "id": "8a994572-6abb-4ff9-b6e9-dce978ab1448",
   "metadata": {},
   "outputs": [
    {
     "data": {
      "text/plain": [
       "False"
      ]
     },
     "metadata": {},
     "output_type": "display_data"
    }
   ],
   "source": [
    "numeros = [2, 10, 18, 24]\n",
    "\n",
    "resultado = any(num % 2 == 1 for num in numeros) # verifica se todos os números são ímpares, havendo pelo menos 1, retorna True\n",
    "\n",
    "display(resultado)"
   ]
  },
  {
   "cell_type": "code",
   "execution_count": 60,
   "id": "1492bf63-21be-4171-b072-729a6f471f9f",
   "metadata": {},
   "outputs": [
    {
     "name": "stdout",
     "output_type": "stream",
     "text": [
      "False\n"
     ]
    }
   ],
   "source": [
    "tabuleiro = [0,1,2,3,4,5,6,7,8]\n",
    "\n",
    "combinacoes_vitoria = [\n",
    "    (0,1,2), (3,4,5), (6,7,8), # linhas\n",
    "    (0,3,6), (1,4,7), (2,5,8), # colunas\n",
    "    (0,4,8), (2,4,6)           # diagonais\n",
    "]\n",
    "\n",
    "resultado = any(tabuleiro[a] == tabuleiro[b] == tabuleiro[c] for a, b, c in combinacoes_vitoria)\n",
    "   \n",
    "print(resultado)"
   ]
  }
 ],
 "metadata": {
  "kernelspec": {
   "display_name": "Python 3 (ipykernel)",
   "language": "python",
   "name": "python3"
  },
  "language_info": {
   "codemirror_mode": {
    "name": "ipython",
    "version": 3
   },
   "file_extension": ".py",
   "mimetype": "text/x-python",
   "name": "python",
   "nbconvert_exporter": "python",
   "pygments_lexer": "ipython3",
   "version": "3.12.5"
  }
 },
 "nbformat": 4,
 "nbformat_minor": 5
}
