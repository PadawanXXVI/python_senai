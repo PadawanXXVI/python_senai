{
 "cells": [
  {
   "cell_type": "markdown",
   "id": "c76b6352-b554-4732-a765-9d08361f9015",
   "metadata": {},
   "source": [
    "# Biblioteca Pandas com Jupyter Notebooks"
   ]
  },
  {
   "cell_type": "code",
   "execution_count": 3,
   "id": "8a5e66e2-a5d5-4715-98ea-5256b0e97a7f",
   "metadata": {},
   "outputs": [
    {
     "data": {
      "text/plain": [
       "True"
      ]
     },
     "metadata": {},
     "output_type": "display_data"
    }
   ],
   "source": [
    "# ANY (Qualquer, qualquer coisa)\n",
    "\n",
    "# Recebe um objeto iterável (um lista, por exemplo) e vai retornar True se existir o elemento (tipo OR)\n",
    "\n",
    "resposta = any([False, True, False, False, False]) # um único ou mais de um True retorna True\n",
    "display(resposta)"
   ]
  },
  {
   "cell_type": "code",
   "execution_count": 4,
   "id": "6373843a-bc9e-4a9f-935a-ae133d6d6700",
   "metadata": {},
   "outputs": [
    {
     "data": {
      "text/plain": [
       "True"
      ]
     },
     "metadata": {},
     "output_type": "display_data"
    }
   ],
   "source": [
    "nomes = ('Anderson', '', '', '', '') # um único ou mais de um item preenchido retorna True\n",
    "\n",
    "resposta = any(nomes)\n",
    "display(resposta)"
   ]
  },
  {
   "cell_type": "code",
   "execution_count": 9,
   "id": "8a994572-6abb-4ff9-b6e9-dce978ab1448",
   "metadata": {},
   "outputs": [
    {
     "data": {
      "text/plain": [
       "False"
      ]
     },
     "metadata": {},
     "output_type": "display_data"
    }
   ],
   "source": [
    "numeros = [2, 10, 18, 24]\n",
    "\n",
    "\n",
    "resultado = any(num % 2 == 1 for num in numeros) # verifica se todos os números são ímpares, havendo pelo menos 1, retorna True\n",
    "\n",
    "\n",
    "display(resultado)"
   ]
  },
  {
   "cell_type": "code",
   "execution_count": 12,
   "id": "1492bf63-21be-4171-b072-729a6f471f9f",
   "metadata": {},
   "outputs": [
    {
     "name": "stdout",
     "output_type": "stream",
     "text": [
      "True\n"
     ]
    }
   ],
   "source": [
    "tabuleiro = [0,1,2,'b','b','b',6,7,8]\n",
    "Venceu = False\n",
    "\n",
    "combinacoes_vitoria = [\n",
    "    (0,1,2), (3,4,5), (6,7,8), # linhas\n",
    "    (0,3,6), (1,4,7), (2,5,8), # colunas\n",
    "    (0,4,8), (2,4,6)           # diagonais\n",
    "]\n",
    "\n",
    "resultado = any(tabuleiro[a] == tabuleiro[b] == tabuleiro[c] for a, b, c in combinacoes_vitoria)\n",
    "'''\n",
    "for a, b, c in combinacoes_vitoria:\n",
    "    if tabuleiro[a] == tabuleiro[b] == tabuleiro[c]:\n",
    "    venceu = True\n",
    "'''\n",
    "   \n",
    "print(resultado)"
   ]
  },
  {
   "cell_type": "code",
   "execution_count": 19,
   "id": "8743003f-3516-4ae9-ae04-7012981a3bb2",
   "metadata": {},
   "outputs": [
    {
     "name": "stdout",
     "output_type": "stream",
     "text": [
      "Luana\n",
      "Anderson Lucas Luan\n",
      "Andrea Luca Luana\n",
      "Joana Jorge Jó\n"
     ]
    }
   ],
   "source": [
    "lista_nomes = [\n",
    "    ['Anderson', 'Lucas', 'Luan'],\n",
    "    ['Andrea', 'Luca', 'Luana'],\n",
    "    ['Joana', 'Jorge', 'Jó']\n",
    "]\n",
    "\n",
    "print(lista_nomes[1][2])\n",
    "\n",
    "for nome1, nome2, nome3 in lista_nomes:\n",
    "    print(nome1, nome2, nome3)"
   ]
  },
  {
   "cell_type": "code",
   "execution_count": 25,
   "id": "fc3e7c63-a1d9-42f4-94c9-ac98689b419b",
   "metadata": {},
   "outputs": [
    {
     "name": "stdout",
     "output_type": "stream",
     "text": [
      "False\n"
     ]
    }
   ],
   "source": [
    "# all (todos)\n",
    "\n",
    "# Recebe um objeto iterável (um lista, por exemplo) e vai retornar True se existirem todos os elementos (tipo AND)\n",
    "\n",
    "lista = [False, False, False]\n",
    "\n",
    "resposta = all(lista)\n",
    "\n",
    "print(resposta)"
   ]
  },
  {
   "cell_type": "code",
   "execution_count": 31,
   "id": "f3035892-1bca-4d44-b180-b9508d5c666e",
   "metadata": {},
   "outputs": [
    {
     "name": "stdout",
     "output_type": "stream",
     "text": [
      "['Laranja', 'Morango', 'Uva']\n",
      "['Laranja', 'Morango', 'Uva']\n",
      "['Toranja', 'Morango', 'Uva']\n",
      "['Toranja', 'Morango', 'Uva']\n",
      "['Laranja', 'Morango', 'Uva']\n",
      "['Toranja', 'Morango', 'Uva']\n"
     ]
    }
   ],
   "source": [
    "frutas = ['Laranja', 'Morango', 'Uva']\n",
    "\n",
    "copia_frutas = frutas\n",
    "\n",
    "print(frutas)\n",
    "print(copia_frutas)\n",
    "\n",
    "frutas[0] = 'Toranja'\n",
    "print(frutas)\n",
    "print(copia_frutas)\n",
    "\n",
    "copia_frutas2 = frutas[:]\n",
    "frutas[0] = 'Laranja'\n",
    "print(frutas)\n",
    "print(copia_frutas2)"
   ]
  },
  {
   "cell_type": "code",
   "execution_count": 41,
   "id": "30f56bae-ab1d-4548-91d3-0f465418ad43",
   "metadata": {},
   "outputs": [
    {
     "name": "stdin",
     "output_type": "stream",
     "text": [
      "Informe o número:  10\n",
      "Informe o numero:  0\n"
     ]
    },
    {
     "ename": "ZeroDivisionError",
     "evalue": "division by zero",
     "output_type": "error",
     "traceback": [
      "\u001b[1;31m---------------------------------------------------------------------------\u001b[0m",
      "\u001b[1;31mZeroDivisionError\u001b[0m                         Traceback (most recent call last)",
      "Cell \u001b[1;32mIn[41], line 5\u001b[0m\n\u001b[0;32m      2\u001b[0m     numero1 \u001b[38;5;241m=\u001b[39m \u001b[38;5;28mint\u001b[39m(\u001b[38;5;28minput\u001b[39m(\u001b[38;5;124m'\u001b[39m\u001b[38;5;124mInforme o número: \u001b[39m\u001b[38;5;124m'\u001b[39m))\n\u001b[0;32m      3\u001b[0m     numero2 \u001b[38;5;241m=\u001b[39m \u001b[38;5;28mint\u001b[39m(\u001b[38;5;28minput\u001b[39m(\u001b[38;5;124m'\u001b[39m\u001b[38;5;124mInforme o numero: \u001b[39m\u001b[38;5;124m'\u001b[39m))\n\u001b[1;32m----> 5\u001b[0m     \u001b[38;5;28mprint\u001b[39m(\u001b[38;5;124m'\u001b[39m\u001b[38;5;124mO resultado é: \u001b[39m\u001b[38;5;124m'\u001b[39m, \u001b[43mnumero1\u001b[49m\u001b[43m \u001b[49m\u001b[38;5;241;43m/\u001b[39;49m\u001b[43m \u001b[49m\u001b[43mnumero2\u001b[49m)\n\u001b[0;32m      6\u001b[0m \u001b[38;5;28;01mexcept\u001b[39;00m \u001b[38;5;167;01mValueError\u001b[39;00m:\n\u001b[0;32m      7\u001b[0m     \u001b[38;5;28mprint\u001b[39m(\u001b[38;5;167;01mValueError\u001b[39;00m)\n",
      "\u001b[1;31mZeroDivisionError\u001b[0m: division by zero"
     ]
    }
   ],
   "source": [
    "try:\n",
    "    numero1 = int(input('Informe o número: '))\n",
    "    numero2 = int(input('Informe o numero: '))\n",
    "\n",
    "    print('O resultado é: ', numero1 / numero2)\n",
    "except ValueError:\n",
    "    print(ValueError)\n",
    "    "
   ]
  },
  {
   "cell_type": "code",
   "execution_count": null,
   "id": "be55e702-513b-4182-93e0-83a1deb4a863",
   "metadata": {},
   "outputs": [],
   "source": []
  }
 ],
 "metadata": {
  "kernelspec": {
   "display_name": "Python 3 (ipykernel)",
   "language": "python",
   "name": "python3"
  },
  "language_info": {
   "codemirror_mode": {
    "name": "ipython",
    "version": 3
   },
   "file_extension": ".py",
   "mimetype": "text/x-python",
   "name": "python",
   "nbconvert_exporter": "python",
   "pygments_lexer": "ipython3",
   "version": "3.12.5"
  }
 },
 "nbformat": 4,
 "nbformat_minor": 5
}
