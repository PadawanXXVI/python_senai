{
 "cells": [
  {
   "cell_type": "markdown",
   "metadata": {},
   "source": [
    "# JUPYTER NOTEBOOKS"
   ]
  },
  {
   "cell_type": "markdown",
   "metadata": {},
   "source": [
    "## Relembrando Variáveis\n",
    "\n",
    "Tipos:\n",
    "- int()\n",
    "- str()\n",
    "- float()\n",
    "- bool()\n",
    "- list()\n",
    "- tuple()\n",
    "- dict()"
   ]
  },
  {
   "cell_type": "code",
   "execution_count": 25,
   "metadata": {},
   "outputs": [],
   "source": [
    "numero = 1\n",
    "nome = 'José'\n",
    "numero_decimal = 10.9\n",
    "sera = True\n",
    "frutas = ['pera', 'morango', 'uva']\n",
    "carros = ('gol', 'uno', 'fusca')\n",
    "pessoa = {'nome':'Anderson', 'idade':25, 'altura':1.74}"
   ]
  },
  {
   "cell_type": "markdown",
   "metadata": {},
   "source": [
    "## Condicionais\n",
    "\n",
    "- if\n",
    "- match case"
   ]
  },
  {
   "cell_type": "code",
   "execution_count": 26,
   "metadata": {},
   "outputs": [
    {
     "name": "stdout",
     "output_type": "stream",
     "text": [
      "Olá! O nome que está na variável não é José\n"
     ]
    }
   ],
   "source": [
    "if nome == 'Anderson':\n",
    "    print(f'Olá, {nome}. O nome está correto!')\n",
    "else:\n",
    "    print(f'Olá! O nome que está na variável não é {nome}')"
   ]
  },
  {
   "cell_type": "code",
   "execution_count": 27,
   "metadata": {},
   "outputs": [
    {
     "name": "stdout",
     "output_type": "stream",
     "text": [
      "Opção 1\n"
     ]
    }
   ],
   "source": [
    "match numero:\n",
    "    case 1:\n",
    "        print('Opção 1')\n",
    "    case 2:\n",
    "        print('Opção 2')\n",
    "    case 3:\n",
    "        print('Opção 3')\n",
    "    case 4:\n",
    "        print('Opção 4')\n",
    "    case _:\n",
    "        print('Opção inválida')"
   ]
  },
  {
   "cell_type": "markdown",
   "metadata": {},
   "source": [
    "## Laços de repetição\n",
    "\n",
    "- for\n",
    "- while"
   ]
  },
  {
   "cell_type": "code",
   "execution_count": 28,
   "metadata": {},
   "outputs": [
    {
     "name": "stdout",
     "output_type": "stream",
     "text": [
      "O número é: 0\n",
      "O número é: 1\n",
      "O número é: 2\n",
      "O número é: 3\n",
      "O número é: 4\n"
     ]
    }
   ],
   "source": [
    "for numero in range(5):\n",
    "    print(f'O número é: {numero}')"
   ]
  },
  {
   "cell_type": "code",
   "execution_count": 29,
   "metadata": {},
   "outputs": [
    {
     "name": "stdout",
     "output_type": "stream",
     "text": [
      "O contador é: 0\n",
      "O contador é: 1\n",
      "O contador é: 2\n",
      "O contador é: 3\n",
      "O contador é: 4\n",
      "O contador é: 5\n"
     ]
    }
   ],
   "source": [
    "contador = 0\n",
    "while contador <= 5:\n",
    "    print(f'O contador é: {contador}')\n",
    "    contador += 1"
   ]
  },
  {
   "cell_type": "markdown",
   "metadata": {},
   "source": [
    "## Metodos de String\n",
    "\n",
    "- upper\n",
    "- lower\n",
    "- captalize\n",
    "- split\n",
    "- strip\n",
    "- slice\n",
    "- replace\n",
    "- join"
   ]
  },
  {
   "cell_type": "code",
   "execution_count": 30,
   "metadata": {},
   "outputs": [
    {
     "name": "stdout",
     "output_type": "stream",
     "text": [
      "anderson de matos guimarães\n",
      "Anderson de matos guimarães\n",
      "ANDERSON DE MATOS GUIMARÃES\n",
      "Anderson de Matos Guimarães\n",
      "Anderson de Garcês Guimarães\n",
      "['Anderson', 'de', 'Matos', 'Guimarães']\n",
      "Anderson$Adryana\n",
      " de M\n"
     ]
    }
   ],
   "source": [
    "aluno = 'Anderson de Matos Guimarães'\n",
    "alunos = ['Anderson', 'Adryana']\n",
    "print(aluno.lower()) # deixa tudo em minúsculo\n",
    "print(aluno.capitalize()) #deixa a primeira letra em maiúsculo\n",
    "print(aluno.upper()) # deixa tudo em maiúsculo\n",
    "print(aluno.strip()) # remove espaços vazios antes e depois\n",
    "print(aluno.replace('Matos', 'Garcês')) # substitui uma sequência de caracter por outra\n",
    "print(aluno.split()) # cria uma lista com as palavras encontradas da string\n",
    "print('$'.join(alunos)) # transforma uma lista em um string com o caracter desejado de separador\n",
    "print(aluno[8:13]) # corta a string no intervalo de caracteres fornecidos"
   ]
  },
  {
   "cell_type": "markdown",
   "metadata": {},
   "source": [
    "## Métodos de lista\n",
    "\n",
    "- append\n",
    "- extend\n",
    "- insert\n",
    "- remove\n",
    "- pop\n",
    "- index\n",
    "- del\n",
    "- sort\n",
    "- reverse"
   ]
  },
  {
   "cell_type": "code",
   "execution_count": 31,
   "metadata": {},
   "outputs": [
    {
     "name": "stdout",
     "output_type": "stream",
     "text": [
      "['notebook', 'smartphone', 'smart tv', 'fliperama']\n",
      "['notebook', 'smartphone', 'smart tv', 'fliperama', 'sofa', 'mesa', 'puff']\n",
      "['notebook', 'smartphone', 'smart tv', 'playstation', 'fliperama', 'sofa', 'mesa', 'puff']\n",
      "['notebook', 'smartphone', 'smart tv', 'playstation', 'fliperama', 'sofa', 'mesa']\n",
      "['notebook', 'smart tv', 'playstation', 'fliperama', 'sofa', 'mesa']\n",
      "['notebook', 'playstation', 'fliperama', 'sofa', 'mesa']\n",
      "['notebook', 'playstation', 'fliperama', 'sofa', 'mesa']\n",
      "['fliperama', 'mesa', 'notebook', 'playstation', 'sofa']\n",
      "['sofa', 'playstation', 'notebook', 'mesa', 'fliperama']\n"
     ]
    }
   ],
   "source": [
    "produtos = ['notebook', 'smartphone', 'smart tv']\n",
    "\n",
    "produtos.append('fliperama')\n",
    "print(produtos) # adiciona um elemento ao final da lista\n",
    "produtos.extend(['sofa', 'mesa', 'puff'])\n",
    "print(produtos) # incrementa a lista com os elementos de outra lista\n",
    "produtos.insert(3, 'playstation')\n",
    "print(produtos) # adiciona um elemento em uma posição específica\n",
    "produtos.pop()\n",
    "print(produtos) # remove o último elemento da lista\n",
    "produtos.pop(1)\n",
    "print(produtos) # remove um elemento específico da lista\n",
    "produtos.remove('smart tv')\n",
    "print(produtos) # remove a primeira ocorrência encontrada\n",
    "produtos.index('notebook')\n",
    "print(produtos) # retorna o índice da primeira ocorrência encontrada\n",
    "produtos.sort()\n",
    "print(produtos) # organiza a lista em ordem crescente\n",
    "produtos.reverse()\n",
    "print(produtos) # inverta a lista de trás para frente"
   ]
  },
  {
   "cell_type": "markdown",
   "metadata": {},
   "source": [
    "## Funções\n",
    "\n",
    "São objetos capazes de armazenar um bloco de código e depois podem ser reaproveitados em outro momento do código, somente chamando pelo seu nome.\n",
    "\n",
    "Tipos:\n",
    "- função sem retorno\n",
    "- função com retorno\n",
    "- função com parâmetros\n",
    "- função sem parâmetros\n",
    "- função lambda\n",
    "- função com múltiplos parâmetros:\n",
    "    - parâmetros posicionais\n",
    "    - parâmetros nomeados\n",
    "- funções recursivas"
   ]
  },
  {
   "cell_type": "code",
   "execution_count": 32,
   "metadata": {},
   "outputs": [],
   "source": [
    "# Função sem retorno\n",
    "\n",
    "def saudacao():\n",
    "    print('Hello, World!')"
   ]
  },
  {
   "cell_type": "code",
   "execution_count": 33,
   "metadata": {},
   "outputs": [
    {
     "name": "stdout",
     "output_type": "stream",
     "text": [
      "Hello, World!\n"
     ]
    }
   ],
   "source": [
    "saudacao()"
   ]
  },
  {
   "cell_type": "code",
   "execution_count": 34,
   "metadata": {},
   "outputs": [],
   "source": [
    "# Função com retorno\n",
    "\n",
    "def somar():\n",
    "    soma = 10 + 25\n",
    "    return soma"
   ]
  },
  {
   "cell_type": "code",
   "execution_count": 35,
   "metadata": {},
   "outputs": [
    {
     "data": {
      "text/plain": [
       "35"
      ]
     },
     "execution_count": 35,
     "metadata": {},
     "output_type": "execute_result"
    }
   ],
   "source": [
    "somar()"
   ]
  },
  {
   "cell_type": "code",
   "execution_count": 36,
   "metadata": {},
   "outputs": [],
   "source": [
    "# Função com parâmetros\n",
    "\n",
    "def somar2(numero1, numero2):\n",
    "    soma = numero1 + numero2\n",
    "    return soma\n",
    "\n"
   ]
  },
  {
   "cell_type": "code",
   "execution_count": 37,
   "metadata": {},
   "outputs": [
    {
     "data": {
      "text/plain": [
       "9"
      ]
     },
     "execution_count": 37,
     "metadata": {},
     "output_type": "execute_result"
    }
   ],
   "source": [
    "somar2(4,5)"
   ]
  },
  {
   "cell_type": "code",
   "execution_count": 38,
   "metadata": {},
   "outputs": [],
   "source": [
    "# Função lambda\n",
    "\n",
    "soma_lambda = lambda numero1, numero2 : numero1 + numero2"
   ]
  },
  {
   "cell_type": "code",
   "execution_count": 39,
   "metadata": {},
   "outputs": [
    {
     "data": {
      "text/plain": [
       "178"
      ]
     },
     "execution_count": 39,
     "metadata": {},
     "output_type": "execute_result"
    }
   ],
   "source": [
    "soma_lambda(78, 100)"
   ]
  },
  {
   "cell_type": "code",
   "execution_count": 40,
   "metadata": {},
   "outputs": [],
   "source": [
    "# Função com mmúltiplos parâmetros (argumentos) posicionais\n",
    "\n",
    "def somar3(*numero):\n",
    "    resultado = sum(numero)\n",
    "    return resultado\n"
   ]
  },
  {
   "cell_type": "code",
   "execution_count": 41,
   "metadata": {},
   "outputs": [
    {
     "data": {
      "text/plain": [
       "15"
      ]
     },
     "execution_count": 41,
     "metadata": {},
     "output_type": "execute_result"
    }
   ],
   "source": [
    "somar3(2, 3, 4, 6)"
   ]
  },
  {
   "cell_type": "code",
   "execution_count": 42,
   "metadata": {},
   "outputs": [],
   "source": [
    "# Função com múltiplos parâmetros nomeados\n",
    "\n",
    "def gerar_produto(**parametros):\n",
    "    produto = parametros\n",
    "    return produto"
   ]
  },
  {
   "cell_type": "code",
   "execution_count": 43,
   "metadata": {},
   "outputs": [
    {
     "data": {
      "text/plain": [
       "{'nome': 'notebook', 'preco': 3000.0, 'fabricante': 'samsung'}"
      ]
     },
     "execution_count": 43,
     "metadata": {},
     "output_type": "execute_result"
    }
   ],
   "source": [
    "gerar_produto(nome='notebook', preco=3000.00, fabricante='samsung')"
   ]
  },
  {
   "cell_type": "code",
   "execution_count": 44,
   "metadata": {},
   "outputs": [],
   "source": [
    "# Funções fatorial convencional\n",
    "\n",
    "def calcula_fatorial(numero):\n",
    "    resultado = 1 \n",
    "    for i in range(1, numero + 1):\n",
    "        resultado *= i\n",
    "    return resultado"
   ]
  },
  {
   "cell_type": "code",
   "execution_count": 45,
   "metadata": {},
   "outputs": [
    {
     "data": {
      "text/plain": [
       "120"
      ]
     },
     "execution_count": 45,
     "metadata": {},
     "output_type": "execute_result"
    }
   ],
   "source": [
    "calcula_fatorial(5)"
   ]
  },
  {
   "cell_type": "code",
   "execution_count": 46,
   "metadata": {},
   "outputs": [],
   "source": [
    "# Função recursiva (exemplo da fatorial)\n",
    "\n",
    "def calcula_fatorial2(numero):\n",
    "    if numero == 0 or numero == 1:\n",
    "        return 1\n",
    "    else:\n",
    "        return numero * calcula_fatorial2(numero-1)"
   ]
  },
  {
   "cell_type": "code",
   "execution_count": 47,
   "metadata": {},
   "outputs": [
    {
     "data": {
      "text/plain": [
       "120"
      ]
     },
     "execution_count": 47,
     "metadata": {},
     "output_type": "execute_result"
    }
   ],
   "source": [
    "calcula_fatorial2(5)"
   ]
  }
 ],
 "metadata": {
  "interpreter": {
   "hash": "023695796a0456db28915f727eb64cb942055160ea749933aa044f2070f70f3a"
  },
  "kernelspec": {
   "display_name": "Python 3.12.5 64-bit (windows store)",
   "language": "python",
   "name": "python3"
  },
  "language_info": {
   "codemirror_mode": {
    "name": "ipython",
    "version": 3
   },
   "file_extension": ".py",
   "mimetype": "text/x-python",
   "name": "python",
   "nbconvert_exporter": "python",
   "pygments_lexer": "ipython3",
   "version": "3.12.5"
  },
  "orig_nbformat": 4
 },
 "nbformat": 4,
 "nbformat_minor": 2
}
