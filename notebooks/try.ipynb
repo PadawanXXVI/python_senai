{
 "cells": [
  {
   "cell_type": "code",
   "execution_count": null,
   "metadata": {},
   "outputs": [],
   "source": [
    "try:\n",
    "    numero1 = int(input('Informe o primeiro número: '))\n",
    "    numero2 = int(input('Informe o segundo número: '))\n",
    "\n",
    "    divisao = numero1 / numero2\n",
    "\n",
    "   \n",
    "except  Exception as err:\n",
    "    print(err)\n",
    "else:\n",
    "    print('Estou no else')\n",
    "finally:\n",
    "    print('seus numero estão invalidos')\n",
    "\n",
    "\n",
    "print(divisao)\n"
   ]
  }
 ],
 "metadata": {
  "interpreter": {
   "hash": "2f75e8a51b372faee74748d97e603e2879ce05b3cac698bb8eb76005aee4ca9e"
  },
  "kernelspec": {
   "display_name": "Python 3.12.5 64-bit ('venv': venv)",
   "language": "python",
   "name": "python3"
  },
  "language_info": {
   "codemirror_mode": {
    "name": "ipython",
    "version": 3
   },
   "file_extension": ".py",
   "mimetype": "text/x-python",
   "name": "python",
   "nbconvert_exporter": "python",
   "pygments_lexer": "ipython3",
   "version": "3.12.5"
  },
  "orig_nbformat": 4
 },
 "nbformat": 4,
 "nbformat_minor": 2
}
