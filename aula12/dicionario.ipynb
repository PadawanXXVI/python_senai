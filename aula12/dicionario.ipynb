{
 "cells": [
  {
   "cell_type": "markdown",
   "metadata": {},
   "source": [
    "# Dicionários"
   ]
  },
  {
   "cell_type": "markdown",
   "metadata": {},
   "source": [
    "## Conceito\n",
    "\n",
    "É um conjunto de chaves e valores que distiguem um objeto. Estas chaves, nós chamamos de KEYS e seus valores de VALUES. É um tipo especial de variável Python identificada pelas {}."
   ]
  },
  {
   "cell_type": "code",
   "execution_count": 90,
   "metadata": {},
   "outputs": [
    {
     "name": "stdout",
     "output_type": "stream",
     "text": [
      "{'nome': 'Anderson', 'idade': 25, 'cidade': 'São Luís'}\n"
     ]
    }
   ],
   "source": [
    "pessoa = {\n",
    "    'nome': 'Anderson',\n",
    "    'idade': 25,\n",
    "    'cidade': 'São Luís'\n",
    "    }\n",
    "\n",
    "print(pessoa)"
   ]
  },
  {
   "cell_type": "markdown",
   "metadata": {},
   "source": [
    "## Métodos de dicionário"
   ]
  },
  {
   "cell_type": "code",
   "execution_count": 91,
   "metadata": {},
   "outputs": [
    {
     "name": "stdout",
     "output_type": "stream",
     "text": [
      "dict_keys(['nome', 'idade', 'cidade'])\n",
      "dict_values(['Anderson', 25, 'São Luís'])\n"
     ]
    }
   ],
   "source": [
    "# Método keys()\n",
    "\n",
    "print(pessoa.keys())\n",
    "\n",
    "# Método values()\n",
    "\n",
    "print(pessoa.values())"
   ]
  },
  {
   "cell_type": "code",
   "execution_count": 92,
   "metadata": {},
   "outputs": [
    {
     "data": {
      "text/plain": [
       "'Anderson'"
      ]
     },
     "execution_count": 92,
     "metadata": {},
     "output_type": "execute_result"
    }
   ],
   "source": [
    "# Olhando valores específicos de um dicionário\n",
    "\n",
    "pessoa['nome']"
   ]
  },
  {
   "cell_type": "code",
   "execution_count": 93,
   "metadata": {},
   "outputs": [
    {
     "name": "stdout",
     "output_type": "stream",
     "text": [
      "{'nome': 'Anderson', 'idade': 25, 'cidade': 'São Luís'}\n",
      "{'nome': 'Anderson', 'idade': 25, 'cidade': 'Brasília'}\n"
     ]
    }
   ],
   "source": [
    "# Atribuindo um novo valor a uma chave\n",
    "\n",
    "print(pessoa) # antes da atribuição\n",
    "\n",
    "pessoa['cidade'] = 'Brasília'\n",
    "\n",
    "print(pessoa)"
   ]
  },
  {
   "cell_type": "code",
   "execution_count": 94,
   "metadata": {},
   "outputs": [
    {
     "name": "stdout",
     "output_type": "stream",
     "text": [
      "{'nome': 'Anderson', 'idade': 25, 'cidade': 'Brasília', 'email': 'anderson.m.guimaraes@icloud.com'}\n"
     ]
    }
   ],
   "source": [
    "# Criando novo conjunto chave-valor\n",
    "\n",
    "pessoa['email'] = 'anderson.m.guimaraes@icloud.com'\n",
    "\n",
    "print(pessoa)"
   ]
  },
  {
   "cell_type": "code",
   "execution_count": 95,
   "metadata": {},
   "outputs": [
    {
     "name": "stdout",
     "output_type": "stream",
     "text": [
      "{'nome': 'Anderson', 'email': 'anderson.m.guimaraes@icloud.com'}\n"
     ]
    }
   ],
   "source": [
    "# Removendo itens de um dicionário - pela chave\n",
    "\n",
    "del pessoa['idade'] # com o nome da chave ** método del **\n",
    "\n",
    "pessoa.pop('cidade') # ** método pop **\n",
    "\n",
    "print(pessoa)"
   ]
  },
  {
   "cell_type": "code",
   "execution_count": 96,
   "metadata": {},
   "outputs": [
    {
     "name": "stdout",
     "output_type": "stream",
     "text": [
      "[{'nome': 'Daniel', 'cidade': 'Águas Claras'}, {'nome': 'Marcos', 'cidade': 'Recanto'}, {'nome': 'Luana', 'cidade': 'Brasília'}, {'nome': 'Francineide', 'cidade': 'Ceilândia'}]\n",
      "{'nome': 'Daniel', 'cidade': 'Águas Claras'}\n",
      "{'nome': 'Marcos', 'cidade': 'Recanto'}\n",
      "{'nome': 'Luana', 'cidade': 'Brasília'}\n",
      "{'nome': 'Francineide', 'cidade': 'Ceilândia'}\n",
      "\n",
      "{'nome': 'Daniel', 'cidade': 'Águas Claras'}\n",
      "{'nome': 'Marcos', 'cidade': 'Recanto'}\n",
      "{'nome': 'Luana', 'cidade': 'Brasília'}\n",
      "{'nome': 'Francineide', 'cidade': 'Ceilândia'}\n",
      "\n",
      "0 {'nome': 'Daniel', 'cidade': 'Águas Claras'}\n",
      "1 {'nome': 'Marcos', 'cidade': 'Recanto'}\n",
      "2 {'nome': 'Luana', 'cidade': 'Brasília'}\n",
      "3 {'nome': 'Francineide', 'cidade': 'Ceilândia'}\n"
     ]
    }
   ],
   "source": [
    "alunos = [\n",
    "    {'nome': 'Daniel', 'cidade': 'Águas Claras'},\n",
    "    {'nome': 'Marcos', 'cidade': 'Recanto'},\n",
    "    {'nome': 'Luana', 'cidade': 'Brasília'},\n",
    "    {'nome': 'Francineide', 'cidade': 'Ceilândia'}\n",
    "]\n",
    "\n",
    "print(alunos)\n",
    "print(alunos[0])\n",
    "print(alunos[1])\n",
    "print(alunos[2])\n",
    "print(alunos[3])\n",
    "print()\n",
    "\n",
    "\n",
    "for aluno in alunos:\n",
    "    print(aluno)\n",
    "\n",
    "print()\n",
    "\n",
    "# percorrendo lista e printando os valores de acordo com o índice\n",
    "for indice, aluno in enumerate(alunos):\n",
    "    print(indice, aluno)"
   ]
  },
  {
   "cell_type": "code",
   "execution_count": 97,
   "metadata": {},
   "outputs": [
    {
     "name": "stdout",
     "output_type": "stream",
     "text": [
      "Brasília\n"
     ]
    }
   ],
   "source": [
    "print(alunos[2]['cidade'])"
   ]
  },
  {
   "cell_type": "code",
   "execution_count": 99,
   "metadata": {},
   "outputs": [
    {
     "name": "stdout",
     "output_type": "stream",
     "text": [
      "Samambaia\n"
     ]
    }
   ],
   "source": [
    "alunos[2]['cidade'] = 'Samambaia'\n",
    "\n",
    "print(alunos[2]['cidade'])"
   ]
  },
  {
   "cell_type": "code",
   "execution_count": 103,
   "metadata": {},
   "outputs": [
    {
     "name": "stdout",
     "output_type": "stream",
     "text": [
      "{'Daniel': {'matricula': '1234', 'escolaridade': 'superior'}, 'Luana': {'matricula': '5678', 'escolaridade': 'superior'}, 'Gilmar': {'matricula': '4321', 'escolaridade': 'superior'}, 'Felipe': {'matricula': '9874', 'escolaridade': 'medio'}}\n"
     ]
    }
   ],
   "source": [
    "# Dicionário de dicionários\n",
    "\n",
    "alunos_dicionario = {\n",
    "    'Daniel': {'matricula': '1234', 'escolaridade': 'superior'},\n",
    "    'Luana': {'matricula': '5678', 'escolaridade': 'superior'},\n",
    "    'Gilmar': {'matricula': '4321', 'escolaridade': 'superior'},\n",
    "    'Felipe': {'matricula': '9874', 'escolaridade': 'medio'}\n",
    "}\n",
    "\n",
    "print(alunos_dicionario)"
   ]
  },
  {
   "cell_type": "code",
   "execution_count": 109,
   "metadata": {},
   "outputs": [
    {
     "name": "stdout",
     "output_type": "stream",
     "text": [
      "{'matricula': '9874', 'escolaridade': 'medio'}\n",
      "-=-=-=-=-=-=-=-=-=-=-=-=-=-=-=-=-=-=-=-=-=-=-=-=-=-=-=-=-=-=-=-=-=-=-=-=-=-=-=-=\n",
      "medio\n"
     ]
    }
   ],
   "source": [
    "# Printando pela chave\n",
    "\n",
    "print(alunos_dicionario['Felipe'])\n",
    "\n",
    "print('-='*40)\n",
    "\n",
    "#printando uma chave dentro da chave\n",
    "\n",
    "print(alunos_dicionario['Felipe']['escolaridade'])"
   ]
  }
 ],
 "metadata": {
  "interpreter": {
   "hash": "023695796a0456db28915f727eb64cb942055160ea749933aa044f2070f70f3a"
  },
  "kernelspec": {
   "display_name": "Python 3.12.5 64-bit (windows store)",
   "language": "python",
   "name": "python3"
  },
  "language_info": {
   "codemirror_mode": {
    "name": "ipython",
    "version": 3
   },
   "file_extension": ".py",
   "mimetype": "text/x-python",
   "name": "python",
   "nbconvert_exporter": "python",
   "pygments_lexer": "ipython3",
   "version": "3.12.5"
  },
  "orig_nbformat": 4
 },
 "nbformat": 4,
 "nbformat_minor": 2
}
