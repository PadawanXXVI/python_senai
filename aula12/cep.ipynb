{
 "cells": [
  {
   "cell_type": "markdown",
   "metadata": {},
   "source": [
    "# Usando dicionários com importação de biblioteca"
   ]
  },
  {
   "cell_type": "code",
   "execution_count": 11,
   "metadata": {},
   "outputs": [
    {
     "data": {
      "text/plain": [
       "{'cep': '72015-955',\n",
       " 'logradouro': 'CSB 7 Lote 02',\n",
       " 'complemento': '',\n",
       " 'unidade': 'Edifício Firenze I',\n",
       " 'bairro': 'Taguatinga Sul (Taguatinga)',\n",
       " 'localidade': 'Brasília',\n",
       " 'uf': 'DF',\n",
       " 'ibge': '5300108',\n",
       " 'gia': '',\n",
       " 'ddd': '61',\n",
       " 'siafi': '9701'}"
      ]
     },
     "execution_count": 11,
     "metadata": {},
     "output_type": "execute_result"
    }
   ],
   "source": [
    "import requests\n",
    "\n",
    "\n",
    "cep = 72015955\n",
    "\n",
    "link = f'https://viacep.com.br/ws/{cep}/json/'\n",
    "\n",
    "resposta = requests.get(link)\n",
    "\n",
    "endereco = resposta.json()\n",
    "\n",
    "endereco"
   ]
  }
 ],
 "metadata": {
  "interpreter": {
   "hash": "023695796a0456db28915f727eb64cb942055160ea749933aa044f2070f70f3a"
  },
  "kernelspec": {
   "display_name": "Python 3.12.5 64-bit (windows store)",
   "language": "python",
   "name": "python3"
  },
  "language_info": {
   "codemirror_mode": {
    "name": "ipython",
    "version": 3
   },
   "file_extension": ".py",
   "mimetype": "text/x-python",
   "name": "python",
   "nbconvert_exporter": "python",
   "pygments_lexer": "ipython3",
   "version": "3.12.5"
  },
  "orig_nbformat": 4
 },
 "nbformat": 4,
 "nbformat_minor": 2
}
